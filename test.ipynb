{
  "nbformat": 4,
  "nbformat_minor": 0,
  "metadata": {
    "colab": {
      "provenance": [],
      "authorship_tag": "ABX9TyOCEukaZm+UZdw2bBlCBr4M",
      "include_colab_link": true
    },
    "kernelspec": {
      "name": "python3",
      "display_name": "Python 3"
    },
    "language_info": {
      "name": "python"
    }
  },
  "cells": [
    {
      "cell_type": "markdown",
      "metadata": {
        "id": "view-in-github",
        "colab_type": "text"
      },
      "source": [
        "<a href=\"https://colab.research.google.com/github/prajitabaniya01/calculator/blob/main/test.ipynb\" target=\"_parent\"><img src=\"https://colab.research.google.com/assets/colab-badge.svg\" alt=\"Open In Colab\"/></a>"
      ]
    },
    {
      "cell_type": "code",
      "source": [
        "import os\n",
        "import random\n",
        "import pandas as pd\n",
        "import numpy as np"
      ],
      "metadata": {
        "id": "WWHDxw8qO_9s"
      },
      "execution_count": null,
      "outputs": []
    },
    {
      "cell_type": "code",
      "source": [
        "from google.colab import drive\n",
        "drive.mount('/content/drive')\n"
      ],
      "metadata": {
        "id": "smn1sHYdPRGI",
        "colab": {
          "base_uri": "https://localhost:8080/"
        },
        "outputId": "ad5fff77-270a-4d19-c4ce-3f6481ccfa17"
      },
      "execution_count": null,
      "outputs": [
        {
          "output_type": "stream",
          "name": "stdout",
          "text": [
            "Mounted at /content/drive\n"
          ]
        }
      ]
    },
    {
      "cell_type": "code",
      "source": [
        "!git clone https://github.com/prajitabaniya01/yolo_training.git"
      ],
      "metadata": {
        "colab": {
          "base_uri": "https://localhost:8080/"
        },
        "id": "KlANFUwYexfQ",
        "outputId": "29df802e-7235-43c3-cf4c-498462a4ccc9"
      },
      "execution_count": null,
      "outputs": [
        {
          "output_type": "stream",
          "name": "stdout",
          "text": [
            "Cloning into 'yolo_training'...\n",
            "warning: You appear to have cloned an empty repository.\n"
          ]
        }
      ]
    },
    {
      "cell_type": "code",
      "source": [
        "!cp /content/drive/MyDrive/test.ipynb /content/yolo_training/test.ipynb\n"
      ],
      "metadata": {
        "id": "ygxwWrv-e2PS"
      },
      "execution_count": null,
      "outputs": []
    },
    {
      "cell_type": "code",
      "source": [
        "# Change directory to '/content/yolo_training'\n",
        "%cd /content/yolo_training\n",
        "\n",
        "# Add the notebook to the staging area\n",
        "!git add test.ipynb\n",
        "\n",
        "# Commit the changes\n",
        "!git commit -m \"Add notebook: test.ipynb\"\n",
        "\n",
        "# Push the changes to the 'main' branch on GitHub\n",
        "!git push origin main\n"
      ],
      "metadata": {
        "colab": {
          "base_uri": "https://localhost:8080/"
        },
        "id": "EVZODbHNfcOa",
        "outputId": "13358587-9bae-4756-8ecd-864fc77d6b1f"
      },
      "execution_count": null,
      "outputs": [
        {
          "output_type": "stream",
          "name": "stdout",
          "text": [
            "/content/yolo_training\n",
            "[main (root-commit) eea47be] Add notebook: test.ipynb\n",
            " 1 file changed, 1 insertion(+)\n",
            " create mode 100644 test.ipynb\n",
            "fatal: could not read Username for 'https://github.com': No such device or address\n"
          ]
        }
      ]
    },
    {
      "cell_type": "code",
      "source": [
        "import subprocess\n",
        "\n",
        "# Set Git global configuration for user email\n",
        "subprocess.run(['git', 'config', '--global', 'user.email', 'prajita.baniya01@gmail.com'])\n"
      ],
      "metadata": {
        "colab": {
          "base_uri": "https://localhost:8080/"
        },
        "id": "Md39jiLZgxLN",
        "outputId": "c2b53b76-3f11-405f-e3fa-e4b2bee04bf5"
      },
      "execution_count": null,
      "outputs": [
        {
          "output_type": "execute_result",
          "data": {
            "text/plain": [
              "CompletedProcess(args=['git', 'config', '--global', 'user.email', 'prajita.baniya01@gmail.com'], returncode=0)"
            ]
          },
          "metadata": {},
          "execution_count": 8
        }
      ]
    },
    {
      "cell_type": "code",
      "source": [],
      "metadata": {
        "id": "8tqUuvWbhdyb"
      },
      "execution_count": null,
      "outputs": []
    }
  ]
}